{
 "cells": [
  {
   "cell_type": "markdown",
   "id": "5a25d9f4",
   "metadata": {},
   "source": [
    "# NFStream PCAP to CSV Flow Collector\n",
    "\n",
    "Thực hành thu thập và trích xuất network traffic:  \n",
    "- Cài đặt wireshark, thu thập dữ liệu mạng và xuất ra tệp tin .pcap  \n",
    "- Cài đặt thư viện NFStream  \n",
    "- **Bước 1:** Truy cập vào container Spark-Master  \n",
    "  `docker exec –it &lt;container-id&gt; bash`  \n",
    "- **Bước 2:** Mở môi trường ảo pyspark38  \n",
    "  `conda activate pyspark38`  \n",
    "- **Bước 3:** Cài đặt thư viện NFStream  \n",
    "  `pip install nfstream`  \n",
    "- Sử dụng NFStream, pandas để xuất tệp tin pcap thu thập được ra dạng bảng (.csv)\n",
    "\n",
    "This notebook demonstrates how to use NFStream to parse a `.pcap` file into flows and export them to a `.csv` file."
   ]
  },
  {
   "cell_type": "code",
   "execution_count": null,
   "id": "c24b927d",
   "metadata": {},
   "outputs": [],
   "source": [
    "from nfstream import NFStreamer\n",
    "import pandas as pd\n",
    "\n",
    "# Path to your pcap file\n",
    "pcap_path = \"../data/network-traffic.pcap\"  # Change this to your .pcap file path\n",
    "\n",
    "# Parse the pcap file into flows\n",
    "streamer = NFStreamer(source=pcap_path, decode_tunnels=True, statistical_analysis=True)\n",
    "\n",
    "# Convert flows to pandas DataFrame\n",
    "df_flows = streamer.to_pandas(columns_to_anonymize=[])\n",
    "\n",
    "# Show the first few flows\n",
    "df_flows.head()"
   ]
  },
  {
   "cell_type": "code",
   "execution_count": null,
   "id": "506e1b13",
   "metadata": {},
   "outputs": [],
   "source": [
    "# Write flows to CSV\n",
    "csv_path = \"flows.csv\"  # Output CSV file path\n",
    "df_flows.to_csv(csv_path, index=False)\n",
    "print(f\"Flows written to {csv_path}\")"
   ]
  }
 ],
 "metadata": {
  "kernelspec": {
   "display_name": "Python 3.8 (PySpark)",
   "language": "python",
   "name": "pyspark38"
  },
  "language_info": {
   "codemirror_mode": {
    "name": "ipython",
    "version": 3
   },
   "file_extension": ".py",
   "mimetype": "text/x-python",
   "name": "python",
   "nbconvert_exporter": "python",
   "pygments_lexer": "ipython3",
   "version": "3.8.20"
  }
 },
 "nbformat": 4,
 "nbformat_minor": 5
}
